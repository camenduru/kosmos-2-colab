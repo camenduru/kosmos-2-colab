{
  "cells": [
    {
      "cell_type": "markdown",
      "metadata": {
        "id": "view-in-github"
      },
      "source": [
        "[![Open In Colab](https://colab.research.google.com/assets/colab-badge.svg)](https://colab.research.google.com/github/camenduru/kosmos-2-colab/blob/main/kosmos_2_colab.ipynb)"
      ]
    },
    {
      "cell_type": "code",
      "execution_count": null,
      "metadata": {
        "id": "VjYy0F2gZIPR"
      },
      "outputs": [],
      "source": [
        "%cd /content\n",
        "!git clone -b dev https://github.com/camenduru/kosmos-2-hf\n",
        "!pip install -q sentencepiece transformers gradio accelerate\n",
        "\n",
        "!wget https://huggingface.co/camenduru/kosmos-2-patch14-224/resolve/main/images/carnaby_street.jpg -O /content/kosmos-2-hf/images/carnaby_street.jpg\n",
        "!wget https://huggingface.co/camenduru/kosmos-2-patch14-224/resolve/main/images/corgi.jpg -O /content/kosmos-2-hf/images/corgi.jpg\n",
        "!wget https://huggingface.co/camenduru/kosmos-2-patch14-224/resolve/main/images/man_ball.png -O /content/kosmos-2-hf/images/man_ball.png\n",
        "!wget https://huggingface.co/camenduru/kosmos-2-patch14-224/resolve/main/images/quadrocopter.jpg -O /content/kosmos-2-hf/images/quadrocopter.jpg\n",
        "!wget https://huggingface.co/camenduru/kosmos-2-patch14-224/resolve/main/images/six_planes.png -O /content/kosmos-2-hf/images/six_planes.png\n",
        "!wget https://huggingface.co/camenduru/kosmos-2-patch14-224/resolve/main/images/snowman.png -O /content/kosmos-2-hf/images/snowman.png\n",
        "!wget https://huggingface.co/camenduru/kosmos-2-patch14-224/resolve/main/images/two_dogs.jpg -O /content/kosmos-2-hf/images/two_dogs.jpg\n",
        "\n",
        "%cd /content/kosmos-2-hf\n",
        "!python app.py"
      ]
    }
  ],
  "metadata": {
    "accelerator": "GPU",
    "colab": {
      "gpuType": "T4",
      "provenance": []
    },
    "kernelspec": {
      "display_name": "Python 3",
      "name": "python3"
    },
    "language_info": {
      "name": "python"
    }
  },
  "nbformat": 4,
  "nbformat_minor": 0
}
